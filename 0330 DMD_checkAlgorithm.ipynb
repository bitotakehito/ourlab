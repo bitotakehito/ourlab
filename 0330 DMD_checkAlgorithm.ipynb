{
 "cells": [
  {
   "cell_type": "code",
   "execution_count": 223,
   "metadata": {},
   "outputs": [],
   "source": [
    "import numpy as np\n",
    "import scipy.io as spio \n",
    "# import scipy\n",
    "# import pandas as pd"
   ]
  },
  {
   "cell_type": "markdown",
   "metadata": {},
   "source": [
    "## データの読み込み"
   ]
  },
  {
   "cell_type": "code",
   "execution_count": 225,
   "metadata": {},
   "outputs": [
    {
     "name": "stdout",
     "output_type": "stream",
     "text": [
      "X[0].shape =(62, 448)\n",
      "X[1].shape =(62, 493)\n",
      "X[2].shape =(62, 444)\n",
      "X[3].shape =(62, 412)\n",
      "X[4].shape =(62, 387)\n",
      "X[5].shape =(62, 529)\n",
      "X[6].shape =(62, 376)\n",
      "X[7].shape =(62, 364)\n",
      "X[8].shape =(62, 452)\n",
      "X[9].shape =(62, 562)\n",
      "X[10].shape =(62, 593)\n",
      "X[11].shape =(62, 504)\n",
      "X[12].shape =(62, 437)\n",
      "X[13].shape =(62, 559)\n",
      "X[14].shape =(62, 415)\n",
      "X[15].shape =(62, 621)\n",
      "X[16].shape =(62, 534)\n",
      "X[17].shape =(62, 475)\n",
      "X[18].shape =(62, 367)\n",
      "X[19].shape =(62, 586)\n",
      "X[20].shape =(62, 437)\n",
      "X[21].shape =(62, 527)\n",
      "X[22].shape =(62, 521)\n",
      "X[23].shape =(62, 578)\n",
      "X[24].shape =(62, 615)\n",
      "X[25].shape =(62, 562)\n",
      "X[26].shape =(62, 569)\n",
      "X[27].shape =(62, 517)\n",
      "X[28].shape =(62, 579)\n",
      "X[29].shape =(62, 616)\n"
     ]
    }
   ],
   "source": [
    "obj = spio.loadmat(\"0data/64_golf.mat\")\n",
    "# X = np.loadtxt(\"./0data/64golf_motiondata.csv\",delimiter=\",\")\n",
    "keys = ['motiondata']\n",
    "X = np.array([obj[keys[0]] [0,]])[0]\n",
    "\n",
    "# keys = ['motiondata','numfiles']\n",
    "# for key in keys:\n",
    "#     X = np.array([obj[key] [0,]])[0]\n",
    "#     np.savetxt(\"./0data/64golf_{}.csv\".format(key), X )\n",
    "\n",
    "for i in range(len(X)):\n",
    "    print(\"X[{}].shape ={}\".format(i,X[i].shape ))"
   ]
  },
  {
   "cell_type": "markdown",
   "metadata": {},
   "source": [
    "##  時系列 ${ X } =\\{ {\\bf x_{ 1 }},{\\bf x_{ 2 }},\\dots{\\bf x_{ N}} \\},\\ {\\bf x_{ i}} = \\left( x_{ i1 },x_{ 2 },\\dots ,x_{ iM }\\right)^T $ から，次のデータ行列を作成\n",
    "${ X }_0 =\\{ {\\bf x_{ 0 }},{\\bf x_{ 2 }},\\dots{\\bf x_{ N-1}} \\}  $ \n",
    "\n",
    "${ X }_1 =\\{ {\\bf x_{ 1 }},{\\bf x_{ 2 }},\\dots{\\bf x_{ N}} \\} $"
   ]
  },
  {
   "cell_type": "code",
   "execution_count": 229,
   "metadata": {},
   "outputs": [
    {
     "name": "stdout",
     "output_type": "stream",
     "text": [
      "X[0].shape=(62, 448)\n",
      "X0.shape=(62, 447)\n",
      "X1.shape=(62, 447)\n"
     ]
    }
   ],
   "source": [
    "X0 = X[0][:,:-1]\n",
    "X1 = X[0][:,1:]\n",
    "print(\"X[0].shape={}\".format(X[0].shape))\n",
    "print(\"X0.shape={}\".format(X0.shape))\n",
    "print(\"X1.shape={}\".format(X1.shape))"
   ]
  },
  {
   "cell_type": "markdown",
   "metadata": {},
   "source": [
    "# $X_0$をSVD(特異値分解)して, $r$次元以下に\n",
    "$X_0$を$X_0 = U_r S_r V_r^{\\mathsf{H}}$として表す"
   ]
  },
  {
   "cell_type": "code",
   "execution_count": 232,
   "metadata": {},
   "outputs": [
    {
     "name": "stdout",
     "output_type": "stream",
     "text": [
      "U_r.shape=(62, 5)\n",
      "S_r.shape=(5, 5)\n",
      "V_r.shape=(447, 5)\n"
     ]
    }
   ],
   "source": [
    "# U=np.zeros(30)\n",
    "# S=np.zeros((30))\n",
    "# V=np.zeros(30)\n",
    "# S[i],V[i]\n",
    "# for i in range(len(X)):\n",
    "#     U[i],S[i],V[i] = np.linalg.svd(X[i])\n",
    "\n",
    "U,S,V = np.linalg.svd(X0)\n",
    "r = 5\n",
    "r = np.min([r,len(S)])\n",
    "\n",
    "U_r = U[:,:r]\n",
    "S_r = np.eye(r)*S[:r]\n",
    "V_r = V[:,:r]\n",
    "\n",
    "print(\"U_r.shape={}\".format(U_r.shape))\n",
    "print(\"S_r.shape={}\".format(S_r.shape))\n",
    "print(\"V_r.shape={}\".format(V_r.shape))"
   ]
  },
  {
   "cell_type": "markdown",
   "metadata": {},
   "source": [
    "# $\\tilde{A} = U_r^{^{\\mathsf{H}}}X_1 V_rS_r^{-1}$"
   ]
  },
  {
   "cell_type": "code",
   "execution_count": 249,
   "metadata": {},
   "outputs": [
    {
     "name": "stdout",
     "output_type": "stream",
     "text": [
      "A_tilde.shape=(5, 5)\n"
     ]
    }
   ],
   "source": [
    "A_tilde = np.conj(U_r).T.dot(X1).dot(V_r).dot(np.linalg.inv(S_r))\n",
    "print(\"A_tilde.shape={}\".format(A_tilde.shape))"
   ]
  },
  {
   "cell_type": "markdown",
   "metadata": {},
   "source": [
    "## $\\tilde{A}$の固有値($\\lambda$ = eig_val)，固有ベクトル($\\tilde{w}$ = eig_vec)を求める\n",
    "\n",
    "$ \\lambda = \n",
    " \\left[\\begin\n",
    "    {matrix}\n",
    "      \\lambda_1 & 0& \\ldots & 0 \\\\\n",
    "      0  & \\lambda_i & 0 & \\vdots  \\\\\n",
    "      \\vdots& 0 & \\lambda_i & 0  \\\\\n",
    "      0 & \\ldots & 0& \\lambda_r \n",
    "    \\end{matrix}\\right]\n",
    "$"
   ]
  },
  {
   "cell_type": "code",
   "execution_count": 240,
   "metadata": {},
   "outputs": [
    {
     "name": "stdout",
     "output_type": "stream",
     "text": [
      "eig_val=\n",
      "[[ 0.46+0.j   -0.00+0.j    0.00-0.j   -0.00+0.j   -0.00+0.j  ]\n",
      " [ 0.00+0.j   -0.26+0.43j  0.00-0.j   -0.00+0.j   -0.00+0.j  ]\n",
      " [ 0.00+0.j   -0.00+0.j   -0.26-0.43j -0.00+0.j   -0.00+0.j  ]\n",
      " [ 0.00+0.j   -0.00+0.j    0.00-0.j   -0.85+0.j   -0.00+0.j  ]\n",
      " [ 0.00+0.j   -0.00+0.j    0.00-0.j   -0.00+0.j   -0.67+0.j  ]]\n"
     ]
    }
   ],
   "source": [
    "eig_val, eig_vec = np.linalg.eig(A_tilde)\n",
    "eig_val = np.eye(r)*eig_val\n",
    "print(\"eig_val=\\n{}\".format(eig_val.round(2)))"
   ]
  },
  {
   "cell_type": "markdown",
   "metadata": {},
   "source": [
    "## 固有値($w$ = Dmode)に対応する動的モードを求める\n",
    "$r$個のモードを求める\n",
    "$w = \\lambda^{−1}Y_1V_rS_r{−1} \\tilde{w}$"
   ]
  },
  {
   "cell_type": "code",
   "execution_count": 243,
   "metadata": {},
   "outputs": [
    {
     "name": "stdout",
     "output_type": "stream",
     "text": [
      "D_modes.shape=\n",
      "(5, 62)\n"
     ]
    }
   ],
   "source": [
    "D_modes = (X1).dot(V_r).dot(np.linalg.inv(S_r)).dot(eig_vec)\n",
    "D_modes = np.linalg.inv(eig_val).dot(D_modes.T)\n",
    "print(\"D_modes.shape=\\n{}\".format(D_modes.shape))"
   ]
  },
  {
   "cell_type": "markdown",
   "metadata": {},
   "source": [
    " "
   ]
  },
  {
   "cell_type": "markdown",
   "metadata": {},
   "source": [
    " "
   ]
  },
  {
   "cell_type": "markdown",
   "metadata": {},
   "source": [
    " "
   ]
  },
  {
   "cell_type": "markdown",
   "metadata": {},
   "source": [
    " "
   ]
  },
  {
   "cell_type": "markdown",
   "metadata": {},
   "source": [
    " "
   ]
  },
  {
   "cell_type": "markdown",
   "metadata": {},
   "source": [
    " "
   ]
  },
  {
   "cell_type": "markdown",
   "metadata": {},
   "source": [
    " "
   ]
  },
  {
   "cell_type": "markdown",
   "metadata": {},
   "source": [
    " "
   ]
  },
  {
   "cell_type": "markdown",
   "metadata": {},
   "source": [
    " "
   ]
  },
  {
   "cell_type": "markdown",
   "metadata": {},
   "source": [
    " "
   ]
  },
  {
   "cell_type": "markdown",
   "metadata": {},
   "source": [
    " "
   ]
  },
  {
   "cell_type": "markdown",
   "metadata": {},
   "source": [
    " "
   ]
  },
  {
   "cell_type": "markdown",
   "metadata": {},
   "source": [
    " "
   ]
  },
  {
   "cell_type": "markdown",
   "metadata": {},
   "source": [
    " "
   ]
  }
 ],
 "metadata": {
  "kernelspec": {
   "display_name": "Python 3",
   "language": "python",
   "name": "python3"
  },
  "language_info": {
   "codemirror_mode": {
    "name": "ipython",
    "version": 3
   },
   "file_extension": ".py",
   "mimetype": "text/x-python",
   "name": "python",
   "nbconvert_exporter": "python",
   "pygments_lexer": "ipython3",
   "version": "3.6.2"
  }
 },
 "nbformat": 4,
 "nbformat_minor": 2
}
